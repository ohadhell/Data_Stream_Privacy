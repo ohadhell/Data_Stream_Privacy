{
  "cells": [
    {
      "cell_type": "markdown",
      "metadata": {
        "id": "view-in-github",
        "colab_type": "text"
      },
      "source": [
        "<a href=\"https://colab.research.google.com/github/ohadhell/Data_Stream_Privacy/blob/main/Copy_of_bigData.ipynb\" target=\"_parent\"><img src=\"https://colab.research.google.com/assets/colab-badge.svg\" alt=\"Open In Colab\"/></a>"
      ]
    },
    {
      "cell_type": "code",
      "execution_count": 29,
      "id": "68b0739a-fa09-4d58-b023-75bd64840d2b",
      "metadata": {
        "id": "68b0739a-fa09-4d58-b023-75bd64840d2b"
      },
      "outputs": [],
      "source": [
        "import numpy as np\n",
        "import pandas as pd\n",
        "# reading nursery.data csv file from github url\n",
        "url='https://raw.githubusercontent.com/ohadhell/Data_Stream_Privacy/main/nursery.data'\n",
        "data =  pd.read_csv(url, sep=\",\",header=0)\n",
        "data_size = len(data.index) #number of transactions in data file\n",
        "# print(data.iloc[1]['Parents']) #way to print specific row specific column\n",
        "# print(data.iloc[[1,2,3]]) #way to print rows\n",
        "#np.random.choice(range(20), 10, replace=False) #returns an array of 10 numbers\n",
        "                                              #from 0 to 20, NO REPEATS\n",
        "def sliding_window_init(window_size,data_size):\n",
        "  rand_trans = np.random.choice(range(data_size), window_size, replace=False)\n",
        "  arr=[]\n",
        "  for n in rand_trans:\n",
        "    arr.append(int(n))\n",
        "  return arr\n"
      ]
    },
    {
      "cell_type": "code",
      "execution_count": 30,
      "id": "745e85c9-d387-459d-aa3f-aa4f5ce73e83",
      "metadata": {
        "id": "745e85c9-d387-459d-aa3f-aa4f5ce73e83",
        "outputId": "98bd61f6-5dbb-4891-fdc0-b58f8e5133e9",
        "colab": {
          "base_uri": "https://localhost:8080/"
        }
      },
      "outputs": [
        {
          "output_type": "stream",
          "name": "stdout",
          "text": [
            "           Parents     Has_nurs  ...       Health    Decision\n",
            "6759   pretentious     improper  ...  recommended    priority\n",
            "5492   pretentious  less_proper  ...    not_recom   not_recom\n",
            "567          usual       proper  ...  recommended    priority\n",
            "5515   pretentious  less_proper  ...     priority    priority\n",
            "5674   pretentious  less_proper  ...     priority    priority\n",
            "6964   pretentious     critical  ...     priority  spec_prior\n",
            "10411   great_pret     improper  ...     priority  spec_prior\n",
            "12232   great_pret    very_crit  ...     priority  spec_prior\n",
            "11103   great_pret     improper  ...  recommended  spec_prior\n",
            "3160         usual     critical  ...     priority  spec_prior\n",
            "8481   pretentious    very_crit  ...  recommended    priority\n",
            "928          usual  less_proper  ...     priority    priority\n",
            "6133   pretentious     improper  ...     priority    priority\n",
            "8599   pretentious    very_crit  ...     priority  spec_prior\n",
            "2485         usual     improper  ...     priority    priority\n",
            "\n",
            "[15 rows x 9 columns]\n"
          ]
        }
      ],
      "source": [
        "\n",
        "print(data.iloc[sliding_window_init(15,data_size)])"
      ]
    }
  ],
  "metadata": {
    "kernelspec": {
      "display_name": "Python 3",
      "language": "python",
      "name": "python3"
    },
    "language_info": {
      "codemirror_mode": {
        "name": "ipython",
        "version": 3
      },
      "file_extension": ".py",
      "mimetype": "text/x-python",
      "name": "python",
      "nbconvert_exporter": "python",
      "pygments_lexer": "ipython3",
      "version": "3.8.8"
    },
    "colab": {
      "name": "Copy of bigData.ipynb",
      "provenance": [],
      "collapsed_sections": [],
      "include_colab_link": true
    }
  },
  "nbformat": 4,
  "nbformat_minor": 5
}