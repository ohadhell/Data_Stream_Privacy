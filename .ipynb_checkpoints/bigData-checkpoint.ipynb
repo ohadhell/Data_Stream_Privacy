{
 "cells": [
  {
   "cell_type": "code",
   "execution_count": 3,
   "id": "68b0739a-fa09-4d58-b023-75bd64840d2b",
   "metadata": {},
   "outputs": [],
   "source": [
    "file = open(\"nursery.data\", \"r\")\n",
    "x=file.read()\n",
    "for line in x:\n",
    "    print (line)\n",
    "file.close()"
   ]
  },
  {
   "cell_type": "code",
   "execution_count": null,
   "id": "745e85c9-d387-459d-aa3f-aa4f5ce73e83",
   "metadata": {},
   "outputs": [],
   "source": []
  }
 ],
 "metadata": {
  "kernelspec": {
   "display_name": "Python 3",
   "language": "python",
   "name": "python3"
  },
  "language_info": {
   "codemirror_mode": {
    "name": "ipython",
    "version": 3
   },
   "file_extension": ".py",
   "mimetype": "text/x-python",
   "name": "python",
   "nbconvert_exporter": "python",
   "pygments_lexer": "ipython3",
   "version": "3.8.8"
  }
 },
 "nbformat": 4,
 "nbformat_minor": 5
}
